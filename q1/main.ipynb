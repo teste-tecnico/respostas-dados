{
 "cells": [
  {
   "cell_type": "code",
   "execution_count": 1,
   "id": "f4413f68",
   "metadata": {},
   "outputs": [],
   "source": [
    "import INMET\n",
    "inmet = INMET.api_inmet()"
   ]
  },
  {
   "cell_type": "code",
   "execution_count": 2,
   "id": "8cafdf83",
   "metadata": {},
   "outputs": [],
   "source": [
    "# Questão 1 - a\n",
    "lista_estacoes_automaticas = inmet.requisita_estacoes(tipo='M')\n",
    "serie_de_14_dias = inmet.requisita_diario(data_inicial='2021-09-01', data_final='2021-09-15', cod_estacao='A301')"
   ]
  },
  {
   "cell_type": "code",
   "execution_count": null,
   "id": "f91ed4b6",
   "metadata": {},
   "outputs": [],
   "source": [
    "# print saídas\n",
    "lista_estacoes_automaticas"
   ]
  },
  {
   "cell_type": "code",
   "execution_count": null,
   "id": "ea4d456a",
   "metadata": {},
   "outputs": [],
   "source": [
    "# print saídas\n",
    "serie_de_14_dias"
   ]
  },
  {
   "cell_type": "markdown",
   "id": "be07691f",
   "metadata": {},
   "source": [
    "# CONVERSÃO PARA DATAFRAME"
   ]
  },
  {
   "cell_type": "code",
   "execution_count": 4,
   "id": "87d57a0a",
   "metadata": {},
   "outputs": [],
   "source": [
    "import json\n",
    "import pandas as pd"
   ]
  },
  {
   "cell_type": "code",
   "execution_count": 5,
   "id": "b59eb4cf",
   "metadata": {},
   "outputs": [],
   "source": [
    "estacoes_json = json.loads(lista_estacoes_automaticas)\n",
    "serie_json = json.loads(serie_de_14_dias)\n",
    "\n",
    "\n",
    "df_estacoes = pd.DataFrame.from_dict(estacoes_json)\n",
    "df_serie = pd.DataFrame.from_dict(serie_json)"
   ]
  },
  {
   "cell_type": "code",
   "execution_count": 6,
   "id": "a7686045",
   "metadata": {},
   "outputs": [
    {
     "data": {
      "text/html": [
       "<div>\n",
       "<style scoped>\n",
       "    .dataframe tbody tr th:only-of-type {\n",
       "        vertical-align: middle;\n",
       "    }\n",
       "\n",
       "    .dataframe tbody tr th {\n",
       "        vertical-align: top;\n",
       "    }\n",
       "\n",
       "    .dataframe thead th {\n",
       "        text-align: right;\n",
       "    }\n",
       "</style>\n",
       "<table border=\"1\" class=\"dataframe\">\n",
       "  <thead>\n",
       "    <tr style=\"text-align: right;\">\n",
       "      <th></th>\n",
       "      <th>CD_OSCAR</th>\n",
       "      <th>DC_NOME</th>\n",
       "      <th>FL_CAPITAL</th>\n",
       "      <th>DT_FIM_OPERACAO</th>\n",
       "      <th>CD_SITUACAO</th>\n",
       "      <th>TP_ESTACAO</th>\n",
       "      <th>VL_LATITUDE</th>\n",
       "      <th>CD_WSI</th>\n",
       "      <th>CD_DISTRITO</th>\n",
       "      <th>VL_ALTITUDE</th>\n",
       "      <th>SG_ESTADO</th>\n",
       "      <th>SG_ENTIDADE</th>\n",
       "      <th>CD_ESTACAO</th>\n",
       "      <th>VL_LONGITUDE</th>\n",
       "      <th>DT_INICIO_OPERACAO</th>\n",
       "    </tr>\n",
       "  </thead>\n",
       "  <tbody>\n",
       "    <tr>\n",
       "      <th>0</th>\n",
       "      <td>0-2000-0-82989</td>\n",
       "      <td>AGUA BRANCA</td>\n",
       "      <td>N</td>\n",
       "      <td>None</td>\n",
       "      <td>Operante</td>\n",
       "      <td>Convencional</td>\n",
       "      <td>-9.26472222</td>\n",
       "      <td>0-76-0-2700102000W82989</td>\n",
       "      <td>03</td>\n",
       "      <td>603.42</td>\n",
       "      <td>AL</td>\n",
       "      <td>INMET</td>\n",
       "      <td>82989</td>\n",
       "      <td>-37.93805555</td>\n",
       "      <td>1928-05-04T21:00:00.000-03:00</td>\n",
       "    </tr>\n",
       "    <tr>\n",
       "      <th>1</th>\n",
       "      <td>0-2000-0-83007</td>\n",
       "      <td>ALTO DA BOA VISTA</td>\n",
       "      <td>N</td>\n",
       "      <td>None</td>\n",
       "      <td>Operante</td>\n",
       "      <td>Convencional</td>\n",
       "      <td>-22.96583333</td>\n",
       "      <td>0-76-0-3304557000W83007</td>\n",
       "      <td>06</td>\n",
       "      <td>347.1</td>\n",
       "      <td>RJ</td>\n",
       "      <td>INMET</td>\n",
       "      <td>83007</td>\n",
       "      <td>-43.27916666</td>\n",
       "      <td>1966-05-31T21:00:00.000-03:00</td>\n",
       "    </tr>\n",
       "    <tr>\n",
       "      <th>2</th>\n",
       "      <td>0-2000-0-82590</td>\n",
       "      <td>APODI</td>\n",
       "      <td>N</td>\n",
       "      <td>None</td>\n",
       "      <td>Operante</td>\n",
       "      <td>Convencional</td>\n",
       "      <td>-5.62666666</td>\n",
       "      <td>0-76-0-2401008000W82590</td>\n",
       "      <td>03</td>\n",
       "      <td>131.37</td>\n",
       "      <td>RN</td>\n",
       "      <td>INMET</td>\n",
       "      <td>82590</td>\n",
       "      <td>-37.815</td>\n",
       "      <td>1962-12-17T21:00:00.000-03:00</td>\n",
       "    </tr>\n",
       "    <tr>\n",
       "      <th>3</th>\n",
       "      <td>0-2000-0-83442</td>\n",
       "      <td>ARACUAI</td>\n",
       "      <td>N</td>\n",
       "      <td>None</td>\n",
       "      <td>Operante</td>\n",
       "      <td>Convencional</td>\n",
       "      <td>-16.84888888</td>\n",
       "      <td>0-76-0-3103405000W83442</td>\n",
       "      <td>05</td>\n",
       "      <td>317.67</td>\n",
       "      <td>MG</td>\n",
       "      <td>INMET</td>\n",
       "      <td>83442</td>\n",
       "      <td>-42.06083333</td>\n",
       "      <td>1918-09-05T21:00:00.000-03:00</td>\n",
       "    </tr>\n",
       "    <tr>\n",
       "      <th>4</th>\n",
       "      <td>0-2000-0-83368</td>\n",
       "      <td>ARAGARCAS</td>\n",
       "      <td>N</td>\n",
       "      <td>None</td>\n",
       "      <td>Operante</td>\n",
       "      <td>Convencional</td>\n",
       "      <td>-15.9025</td>\n",
       "      <td>0-76-0-5201702000W83368</td>\n",
       "      <td>10</td>\n",
       "      <td>327.03</td>\n",
       "      <td>GO</td>\n",
       "      <td>INMET</td>\n",
       "      <td>83368</td>\n",
       "      <td>-52.24527777</td>\n",
       "      <td>1970-07-18T21:00:00.000-03:00</td>\n",
       "    </tr>\n",
       "    <tr>\n",
       "      <th>...</th>\n",
       "      <td>...</td>\n",
       "      <td>...</td>\n",
       "      <td>...</td>\n",
       "      <td>...</td>\n",
       "      <td>...</td>\n",
       "      <td>...</td>\n",
       "      <td>...</td>\n",
       "      <td>...</td>\n",
       "      <td>...</td>\n",
       "      <td>...</td>\n",
       "      <td>...</td>\n",
       "      <td>...</td>\n",
       "      <td>...</td>\n",
       "      <td>...</td>\n",
       "      <td>...</td>\n",
       "    </tr>\n",
       "    <tr>\n",
       "      <th>167</th>\n",
       "      <td>0-2000-0-83428</td>\n",
       "      <td>UNAI</td>\n",
       "      <td>N</td>\n",
       "      <td>None</td>\n",
       "      <td>Operante</td>\n",
       "      <td>Convencional</td>\n",
       "      <td>-16.36638888</td>\n",
       "      <td>0-76-0-3170404000W83428</td>\n",
       "      <td>05</td>\n",
       "      <td>595.59</td>\n",
       "      <td>MG</td>\n",
       "      <td>INMET</td>\n",
       "      <td>83428</td>\n",
       "      <td>-46.88944444</td>\n",
       "      <td>1976-04-06T21:00:00.000-03:00</td>\n",
       "    </tr>\n",
       "    <tr>\n",
       "      <th>168</th>\n",
       "      <td>0-2000-0-83648</td>\n",
       "      <td>VITORIA</td>\n",
       "      <td>S</td>\n",
       "      <td>None</td>\n",
       "      <td>Operante</td>\n",
       "      <td>Convencional</td>\n",
       "      <td>-20.31583333</td>\n",
       "      <td>0-76-0-3205309000W83648</td>\n",
       "      <td>06</td>\n",
       "      <td>36.2</td>\n",
       "      <td>ES</td>\n",
       "      <td>INMET</td>\n",
       "      <td>83648</td>\n",
       "      <td>-40.31694443</td>\n",
       "      <td>1923-11-19T21:00:00.000-03:00</td>\n",
       "    </tr>\n",
       "    <tr>\n",
       "      <th>169</th>\n",
       "      <td>0-2000-0-83344</td>\n",
       "      <td>VITORIA DA CONQUISTA</td>\n",
       "      <td>N</td>\n",
       "      <td>None</td>\n",
       "      <td>Operante</td>\n",
       "      <td>Convencional</td>\n",
       "      <td>-14.88638888</td>\n",
       "      <td>0-76-0-2933307000W83344</td>\n",
       "      <td>04</td>\n",
       "      <td>879.47</td>\n",
       "      <td>BA</td>\n",
       "      <td>INMET</td>\n",
       "      <td>83344</td>\n",
       "      <td>-40.80138888</td>\n",
       "      <td>1935-12-31T21:00:00.000-03:00</td>\n",
       "    </tr>\n",
       "    <tr>\n",
       "      <th>170</th>\n",
       "      <td>0-2000-0-83623</td>\n",
       "      <td>VOTUPORANGA</td>\n",
       "      <td>N</td>\n",
       "      <td>None</td>\n",
       "      <td>Operante</td>\n",
       "      <td>Convencional</td>\n",
       "      <td>-20.43972221</td>\n",
       "      <td>0-76-0-3557105000W83623</td>\n",
       "      <td>07</td>\n",
       "      <td>510.41</td>\n",
       "      <td>SP</td>\n",
       "      <td>INMET</td>\n",
       "      <td>83623</td>\n",
       "      <td>-49.9836111</td>\n",
       "      <td>1976-07-04T21:00:00.000-03:00</td>\n",
       "    </tr>\n",
       "    <tr>\n",
       "      <th>171</th>\n",
       "      <td>0-2000-0-82376</td>\n",
       "      <td>ZE DOCA</td>\n",
       "      <td>N</td>\n",
       "      <td>None</td>\n",
       "      <td>Operante</td>\n",
       "      <td>Convencional</td>\n",
       "      <td>-3.269212</td>\n",
       "      <td>0-76-0-2114007000W82376</td>\n",
       "      <td>02</td>\n",
       "      <td>46.71</td>\n",
       "      <td>MA</td>\n",
       "      <td>INMET</td>\n",
       "      <td>82376</td>\n",
       "      <td>-45.651007</td>\n",
       "      <td>1970-08-24T21:00:00.000-03:00</td>\n",
       "    </tr>\n",
       "  </tbody>\n",
       "</table>\n",
       "<p>172 rows × 15 columns</p>\n",
       "</div>"
      ],
      "text/plain": [
       "           CD_OSCAR               DC_NOME FL_CAPITAL DT_FIM_OPERACAO  \\\n",
       "0    0-2000-0-82989           AGUA BRANCA          N            None   \n",
       "1    0-2000-0-83007     ALTO DA BOA VISTA          N            None   \n",
       "2    0-2000-0-82590                 APODI          N            None   \n",
       "3    0-2000-0-83442               ARACUAI          N            None   \n",
       "4    0-2000-0-83368             ARAGARCAS          N            None   \n",
       "..              ...                   ...        ...             ...   \n",
       "167  0-2000-0-83428                  UNAI          N            None   \n",
       "168  0-2000-0-83648               VITORIA          S            None   \n",
       "169  0-2000-0-83344  VITORIA DA CONQUISTA          N            None   \n",
       "170  0-2000-0-83623           VOTUPORANGA          N            None   \n",
       "171  0-2000-0-82376               ZE DOCA          N            None   \n",
       "\n",
       "    CD_SITUACAO    TP_ESTACAO   VL_LATITUDE                   CD_WSI  \\\n",
       "0      Operante  Convencional   -9.26472222  0-76-0-2700102000W82989   \n",
       "1      Operante  Convencional  -22.96583333  0-76-0-3304557000W83007   \n",
       "2      Operante  Convencional   -5.62666666  0-76-0-2401008000W82590   \n",
       "3      Operante  Convencional  -16.84888888  0-76-0-3103405000W83442   \n",
       "4      Operante  Convencional      -15.9025  0-76-0-5201702000W83368   \n",
       "..          ...           ...           ...                      ...   \n",
       "167    Operante  Convencional  -16.36638888  0-76-0-3170404000W83428   \n",
       "168    Operante  Convencional  -20.31583333  0-76-0-3205309000W83648   \n",
       "169    Operante  Convencional  -14.88638888  0-76-0-2933307000W83344   \n",
       "170    Operante  Convencional  -20.43972221  0-76-0-3557105000W83623   \n",
       "171    Operante  Convencional     -3.269212  0-76-0-2114007000W82376   \n",
       "\n",
       "    CD_DISTRITO VL_ALTITUDE SG_ESTADO SG_ENTIDADE CD_ESTACAO  VL_LONGITUDE  \\\n",
       "0            03      603.42        AL       INMET      82989  -37.93805555   \n",
       "1            06       347.1        RJ       INMET      83007  -43.27916666   \n",
       "2            03      131.37        RN       INMET      82590       -37.815   \n",
       "3            05      317.67        MG       INMET      83442  -42.06083333   \n",
       "4            10      327.03        GO       INMET      83368  -52.24527777   \n",
       "..          ...         ...       ...         ...        ...           ...   \n",
       "167          05      595.59        MG       INMET      83428  -46.88944444   \n",
       "168          06        36.2        ES       INMET      83648  -40.31694443   \n",
       "169          04      879.47        BA       INMET      83344  -40.80138888   \n",
       "170          07      510.41        SP       INMET      83623   -49.9836111   \n",
       "171          02       46.71        MA       INMET      82376    -45.651007   \n",
       "\n",
       "                DT_INICIO_OPERACAO  \n",
       "0    1928-05-04T21:00:00.000-03:00  \n",
       "1    1966-05-31T21:00:00.000-03:00  \n",
       "2    1962-12-17T21:00:00.000-03:00  \n",
       "3    1918-09-05T21:00:00.000-03:00  \n",
       "4    1970-07-18T21:00:00.000-03:00  \n",
       "..                             ...  \n",
       "167  1976-04-06T21:00:00.000-03:00  \n",
       "168  1923-11-19T21:00:00.000-03:00  \n",
       "169  1935-12-31T21:00:00.000-03:00  \n",
       "170  1976-07-04T21:00:00.000-03:00  \n",
       "171  1970-08-24T21:00:00.000-03:00  \n",
       "\n",
       "[172 rows x 15 columns]"
      ]
     },
     "execution_count": 6,
     "metadata": {},
     "output_type": "execute_result"
    }
   ],
   "source": [
    "#print de dataframes\n",
    "df_serie\n",
    "df_estacoes"
   ]
  },
  {
   "cell_type": "markdown",
   "id": "6d6da903",
   "metadata": {},
   "source": [
    "# Requisições assíncronas"
   ]
  },
  {
   "cell_type": "code",
   "execution_count": 7,
   "id": "c56180b9",
   "metadata": {},
   "outputs": [
    {
     "data": {
      "text/plain": [
       "array(['82989', '83007', '82590', '83442', '83368', '82659', '83579',\n",
       "       '82890', '82696', '83384', '83049', '82460', '83980', '82768'],\n",
       "      dtype=object)"
      ]
     },
     "execution_count": 7,
     "metadata": {},
     "output_type": "execute_result"
    }
   ],
   "source": [
    "# lista das 15 estações a serem requisitadas\n",
    "estacoes = df_estacoes['CD_ESTACAO'][0:14].values\n",
    "estacoes"
   ]
  },
  {
   "cell_type": "code",
   "execution_count": 8,
   "id": "5015a5f2",
   "metadata": {},
   "outputs": [],
   "source": [
    "#import threading\n",
    "import concurrent.futures"
   ]
  },
  {
   "cell_type": "code",
   "execution_count": 9,
   "id": "4fe0f553",
   "metadata": {},
   "outputs": [],
   "source": [
    "def requisita_diario_assincrono(codigo_estacao:str) -> str:\n",
    "    \"\"\"Função auxiliar na requisição assincrona dos dados de estação do INMET\n",
    "\n",
    "    Args:\n",
    "        codigo_estacao (str): Código da estação catalogada no INMET.\n",
    "    \n",
    "    Notes:\n",
    "        Esta função teve suas datas fixadas. Apenas por questão de velocidade da sua construção.\n",
    "\n",
    "    Returns:\n",
    "        str: Dados requisitados da estação \n",
    "    \"\"\"\n",
    "    print(\"Thread %s: Iniciando\", codigo_estacao)\n",
    "    serie_14_dias = inmet.requisita_diario(data_inicial='2021-09-01', data_final='2021-09-15', cod_estacao=codigo_estacao)\n",
    "    print(\"Thread %s: Finalizando\", codigo_estacao)\n",
    "    \n",
    "    return serie_14_dias"
   ]
  },
  {
   "cell_type": "code",
   "execution_count": 10,
   "id": "c5a7d02c",
   "metadata": {},
   "outputs": [
    {
     "name": "stdout",
     "output_type": "stream",
     "text": [
      "Thread %s: Iniciando 82989\n",
      "Thread %s: Iniciando Thread %s: Iniciando 82590\n",
      "83007\n",
      "Thread %s: Iniciando 83442\n",
      "Thread %s: Iniciando 83368\n",
      "Thread %s: Iniciando 82659\n",
      "Thread %s: Iniciando 83579\n",
      "Thread %s: Iniciando 82890\n",
      "Thread %s: Iniciando 82696\n",
      "Thread %s: Iniciando 83384\n",
      "Thread %s: Iniciando 83049\n",
      "Thread %s: Iniciando 82460\n",
      "Thread %s: Iniciando 83980\n",
      "Thread %s: Iniciando 82768\n",
      "Thread %s: Finalizando 82989\n",
      "Thread %s: FinalizandoThread %s: Finalizando 82659\n",
      " 83049\n",
      "Thread %s: Finalizando 83384\n",
      "Thread %s: Finalizando 83980\n",
      "Thread %s: Finalizando 83442\n",
      "Thread %s: Finalizando 82696\n",
      "Thread %s: Finalizando 82768\n",
      "Thread %s: Finalizando 82460\n",
      "Thread %s: Finalizando 83579\n",
      "Thread %s: Finalizando 83007\n",
      "Thread %s: FinalizandoThread %s: Finalizando 82890 82590\n",
      "\n",
      "Thread %s: Finalizando 83368\n"
     ]
    }
   ],
   "source": [
    "with concurrent.futures.ThreadPoolExecutor(max_workers=15) as executor:\n",
    "        requisicoes = executor.map(requisita_diario_assincrono, estacoes)"
   ]
  },
  {
   "cell_type": "code",
   "execution_count": 11,
   "id": "9ea7d7c5",
   "metadata": {},
   "outputs": [],
   "source": [
    "saidas_requisicao = {}\n",
    "for codigo_posto, requisicao in zip(estacoes, requisicoes):\n",
    "    saidas_requisicao[codigo_posto] = requisicao"
   ]
  },
  {
   "cell_type": "code",
   "execution_count": 12,
   "id": "1c509b91",
   "metadata": {},
   "outputs": [
    {
     "data": {
      "text/plain": [
       "b'[{\"TEMP_MAX\":\"26.8\",\"UMID_MED\":\"84\",\"UF\":\"AL\",\"DT_MEDICAO\":\"2021-09-01\",\"DC_NOME\":\"AGUA BRANCA\",\"TEMP_MED\":\"21.18\",\"CHUVA\":\"0\",\"INSOLACAO\":\"4.6\",\"CD_ESTACAO\":\"82989\",\"VL_LATITUDE\":\"-9.26472222\",\"VL_LONGITUDE\":\"-37.93805555\",\"TEMP_MIN\":\"17.6\"},{\"TEMP_MAX\":\"26.6\",\"UMID_MED\":\"86\",\"UF\":\"AL\",\"DT_MEDICAO\":\"2021-09-02\",\"DC_NOME\":\"AGUA BRANCA\",\"TEMP_MED\":\"21.66\",\"CHUVA\":\"0\",\"INSOLACAO\":\"9.6\",\"CD_ESTACAO\":\"82989\",\"VL_LATITUDE\":\"-9.26472222\",\"VL_LONGITUDE\":\"-37.93805555\",\"TEMP_MIN\":\"17.1\"},{\"TEMP_MAX\":\"28.4\",\"UMID_MED\":\"87\",\"UF\":\"AL\",\"DT_MEDICAO\":\"2021-09-03\",\"DC_NOME\":\"AGUA BRANCA\",\"TEMP_MED\":\"22.48\",\"CHUVA\":\"0\",\"INSOLACAO\":\"8.5\",\"CD_ESTACAO\":\"82989\",\"VL_LATITUDE\":\"-9.26472222\",\"VL_LONGITUDE\":\"-37.93805555\",\"TEMP_MIN\":\"17.9\"},{\"TEMP_MAX\":\"29.7\",\"UMID_MED\":\"81\",\"UF\":\"AL\",\"DT_MEDICAO\":\"2021-09-04\",\"DC_NOME\":\"AGUA BRANCA\",\"TEMP_MED\":\"23.8\",\"CHUVA\":\"0\",\"INSOLACAO\":\"10.4\",\"CD_ESTACAO\":\"82989\",\"VL_LATITUDE\":\"-9.26472222\",\"VL_LONGITUDE\":\"-37.93805555\",\"TEMP_MIN\":\"18.5\"},{\"TEMP_MAX\":null,\"UMID_MED\":null,\"UF\":\"AL\",\"DT_MEDICAO\":\"2021-09-05\",\"DC_NOME\":\"AGUA BRANCA\",\"TEMP_MED\":null,\"CHUVA\":null,\"INSOLACAO\":null,\"CD_ESTACAO\":\"82989\",\"VL_LATITUDE\":\"-9.26472222\",\"VL_LONGITUDE\":\"-37.93805555\",\"TEMP_MIN\":null},{\"TEMP_MAX\":\"30.7\",\"UMID_MED\":\"84\",\"UF\":\"AL\",\"DT_MEDICAO\":\"2021-09-06\",\"DC_NOME\":\"AGUA BRANCA\",\"TEMP_MED\":null,\"CHUVA\":\"0\",\"INSOLACAO\":\"8.4\",\"CD_ESTACAO\":\"82989\",\"VL_LATITUDE\":\"-9.26472222\",\"VL_LONGITUDE\":\"-37.93805555\",\"TEMP_MIN\":null},{\"TEMP_MAX\":\"29.7\",\"UMID_MED\":\"79\",\"UF\":\"AL\",\"DT_MEDICAO\":\"2021-09-07\",\"DC_NOME\":\"AGUA BRANCA\",\"TEMP_MED\":\"23.22\",\"CHUVA\":\"0\",\"INSOLACAO\":\"8.8\",\"CD_ESTACAO\":\"82989\",\"VL_LATITUDE\":\"-9.26472222\",\"VL_LONGITUDE\":\"-37.93805555\",\"TEMP_MIN\":\"18.1\"},{\"TEMP_MAX\":\"22.7\",\"UMID_MED\":\"90\",\"UF\":\"AL\",\"DT_MEDICAO\":\"2021-09-08\",\"DC_NOME\":\"AGUA BRANCA\",\"TEMP_MED\":\"21.26\",\"CHUVA\":\"2.6\",\"INSOLACAO\":\"7.3\",\"CD_ESTACAO\":\"82989\",\"VL_LATITUDE\":\"-9.26472222\",\"VL_LONGITUDE\":\"-37.93805555\",\"TEMP_MIN\":\"18.7\"},{\"TEMP_MAX\":\"29\",\"UMID_MED\":\"80\",\"UF\":\"AL\",\"DT_MEDICAO\":\"2021-09-09\",\"DC_NOME\":\"AGUA BRANCA\",\"TEMP_MED\":\"22.72\",\"CHUVA\":\"0\",\"INSOLACAO\":\"9.5\",\"CD_ESTACAO\":\"82989\",\"VL_LATITUDE\":\"-9.26472222\",\"VL_LONGITUDE\":\"-37.93805555\",\"TEMP_MIN\":\"17.8\"},{\"TEMP_MAX\":null,\"UMID_MED\":null,\"UF\":\"AL\",\"DT_MEDICAO\":\"2021-09-10\",\"DC_NOME\":\"AGUA BRANCA\",\"TEMP_MED\":null,\"CHUVA\":\"0\",\"INSOLACAO\":null,\"CD_ESTACAO\":\"82989\",\"VL_LATITUDE\":\"-9.26472222\",\"VL_LONGITUDE\":\"-37.93805555\",\"TEMP_MIN\":\"17.5\"},{\"TEMP_MAX\":\"29.8\",\"UMID_MED\":\"81\",\"UF\":\"AL\",\"DT_MEDICAO\":\"2021-09-11\",\"DC_NOME\":\"AGUA BRANCA\",\"TEMP_MED\":\"22.9\",\"CHUVA\":\"0\",\"INSOLACAO\":\"8.7\",\"CD_ESTACAO\":\"82989\",\"VL_LATITUDE\":\"-9.26472222\",\"VL_LONGITUDE\":\"-37.93805555\",\"TEMP_MIN\":\"17.8\"},{\"TEMP_MAX\":null,\"UMID_MED\":null,\"UF\":\"AL\",\"DT_MEDICAO\":\"2021-09-12\",\"DC_NOME\":\"AGUA BRANCA\",\"TEMP_MED\":null,\"CHUVA\":null,\"INSOLACAO\":null,\"CD_ESTACAO\":\"82989\",\"VL_LATITUDE\":\"-9.26472222\",\"VL_LONGITUDE\":\"-37.93805555\",\"TEMP_MIN\":null},{\"TEMP_MAX\":\"24.4\",\"UMID_MED\":\"85\",\"UF\":\"AL\",\"DT_MEDICAO\":\"2021-09-13\",\"DC_NOME\":\"AGUA BRANCA\",\"TEMP_MED\":null,\"CHUVA\":\"0\",\"INSOLACAO\":\"6.3\",\"CD_ESTACAO\":\"82989\",\"VL_LATITUDE\":\"-9.26472222\",\"VL_LONGITUDE\":\"-37.93805555\",\"TEMP_MIN\":null},{\"TEMP_MAX\":\"26.4\",\"UMID_MED\":\"95\",\"UF\":\"AL\",\"DT_MEDICAO\":\"2021-09-14\",\"DC_NOME\":\"AGUA BRANCA\",\"TEMP_MED\":\"21.58\",\"CHUVA\":\"9.7\",\"INSOLACAO\":\"2.2\",\"CD_ESTACAO\":\"82989\",\"VL_LATITUDE\":\"-9.26472222\",\"VL_LONGITUDE\":\"-37.93805555\",\"TEMP_MIN\":\"18.8\"},{\"TEMP_MAX\":\"28.8\",\"UMID_MED\":\"88\",\"UF\":\"AL\",\"DT_MEDICAO\":\"2021-09-15\",\"DC_NOME\":\"AGUA BRANCA\",\"TEMP_MED\":\"22.74\",\"CHUVA\":\"0\",\"INSOLACAO\":\"7.7\",\"CD_ESTACAO\":\"82989\",\"VL_LATITUDE\":\"-9.26472222\",\"VL_LONGITUDE\":\"-37.93805555\",\"TEMP_MIN\":\"18.6\"}]'"
      ]
     },
     "execution_count": 12,
     "metadata": {},
     "output_type": "execute_result"
    }
   ],
   "source": [
    "# exemplo de pedaço da dict com os dados baixados\n",
    "saidas_requisicao['82989']"
   ]
  },
  {
   "cell_type": "markdown",
   "id": "4f3519a1",
   "metadata": {},
   "source": [
    "# Verifica falhas"
   ]
  },
  {
   "cell_type": "code",
   "execution_count": 13,
   "id": "12f49fa9",
   "metadata": {},
   "outputs": [],
   "source": [
    "import numpy as np\n",
    "import pandas as pd\n",
    "import matplotlib.pyplot as plt\n",
    "import matplotlib.dates as mdates\n",
    "import seaborn as sns\n",
    "\n",
    "def plot_falhas(df:pd.DataFrame, codigo_posto:str=None) -> plt:\n",
    "    \"\"\"Sub-função de checa_falhas(). \n",
    "    Gera visualização de todos os dados existentes e faltantes na série da estação.\n",
    "\n",
    "    Args:\n",
    "        df (pd.DataFrame): Dados trabalhados do posto\n",
    "        codigo_posto (str, optional): código do posto. Defaults to None.\n",
    "\n",
    "    Returns:\n",
    "        plt: Figura representando as falhas\n",
    "    \"\"\"\n",
    "    \n",
    "    fig, ax = plt.subplots(figsize=(18, 12))\n",
    "    \n",
    "    titulo = 'Falha nos dados' if codigo_posto == None else f'Falha nos dados do posto {codigo_posto}'\n",
    "    ax.set_title(titulo, fontsize=20,loc='center')\n",
    "    myFmt = mdates.DateFormatter('%Y')\n",
    "    ax.set_ylabel(myFmt)\n",
    "\n",
    "    sns.heatmap(df.isnull(), cbar=False)"
   ]
  },
  {
   "cell_type": "code",
   "execution_count": 14,
   "id": "0c9f2032",
   "metadata": {},
   "outputs": [],
   "source": [
    "def checa_falhas(dados_estacao:str, plot:bool=False, codigo_posto:str=None) -> None:\n",
    "    \"\"\"Verifica em todas as variáveis de uma estação INMET se há falhas.\n",
    "\n",
    "    Args:\n",
    "        dados_estacao (str): dados requisitados diretamente da api\n",
    "        plot (bool, optional): [True ou False] Habilita visualização gráfica. Defaults to False.\n",
    "        codigo_posto (str, optional): Código do posto para títulos e etc. Defaults to None.\n",
    "    \"\"\"\n",
    "    \n",
    "    # Conversão do dado bruto para json e de json para DataFrame\n",
    "    serie_json = json.loads(dados_estacao)\n",
    "    df = pd.DataFrame.from_dict(serie_json)\n",
    "    \n",
    "    # Setando a data como índice\n",
    "    df = df.set_index('DT_MEDICAO')\n",
    "    \n",
    "    # Verificando se há falhas\n",
    "    falhas = df.isna()\n",
    "    if falhas.bool:\n",
    "        print(f'A estação apresenta falhas') if codigo_posto == None else print(f'A estação {codigo_posto} apresenta falhas') \n",
    "        grafico = plot_falhas(df,codigo_posto) if plot else print('Plot de falhas ignorado')\n",
    "        \n",
    "    else:\n",
    "        print(f'A estação está maneirinha :)') if codigo_posto == None else print(f'A estação {codigo_posto} está maneirinha :)')"
   ]
  },
  {
   "cell_type": "code",
   "execution_count": 15,
   "id": "d19f109d",
   "metadata": {},
   "outputs": [
    {
     "name": "stdout",
     "output_type": "stream",
     "text": [
      "A estação 82989 apresenta falhas\n"
     ]
    },
    {
     "data": {
      "image/png": "[encoded data removed]",
      "text/plain": [
       "<Figure size 1296x864 with 1 Axes>"
      ]
     },
     "metadata": {
      "needs_background": "light"
     },
     "output_type": "display_data"
    }
   ],
   "source": [
    "# exemplo\n",
    "checa_falhas(saidas_requisicao['82989'], plot=True, codigo_posto='82989')"
   ]
  },
  {
   "cell_type": "markdown",
   "id": "10e4bcec",
   "metadata": {},
   "source": [
    "# Verifica valores espúrios"
   ]
  },
  {
   "cell_type": "code",
   "execution_count": 16,
   "id": "a15e23b2",
   "metadata": {},
   "outputs": [
    {
     "name": "stdout",
     "output_type": "stream",
     "text": [
      "Index(['TEMP_MAX', 'UMID_MED', 'UF', 'DT_MEDICAO', 'DC_NOME', 'TEMP_MED',\n",
      "       'CHUVA', 'INSOLACAO', 'CD_ESTACAO', 'VL_LATITUDE', 'VL_LONGITUDE',\n",
      "       'TEMP_MIN'],\n",
      "      dtype='object')\n"
     ]
    }
   ],
   "source": [
    "serie_json = json.loads(saidas_requisicao['82989'])\n",
    "df = pd.DataFrame.from_dict(serie_json)\n",
    "\n",
    "# Olhando colunas que devem ser checadas\n",
    "print(df.columns)\n",
    "\n",
    "range_temperatura = {'minimo_confiavel':-50,\n",
    "                     'maximo_confiavel':60}\n",
    "range_umidade = {'minimo_confiavel':0,\n",
    "                 'maximo_confiavel':100}\n",
    "range_chuva = {'minimo_confiavel':0,\n",
    "               'maximo_confiavel':1} #range de chuva alterado para ser pego como espúrio\n",
    "\n",
    "# outras colunas como a insolação podem ser incluídas no mesmo padrão.\n",
    "# isso não foi feito por nao ter noção dos limites para essa variável."
   ]
  },
  {
   "cell_type": "code",
   "execution_count": 17,
   "id": "85e21313",
   "metadata": {},
   "outputs": [],
   "source": [
    "def checa_valores_espurios(dados_estacao:str, codigo_posto:str=None, retorna_msg_ok:bool=False) -> None:\n",
    "    \"\"\"Checa se existem valores fora de um intervalo definido.\n",
    "\n",
    "    Args:\n",
    "        dados_estacao (str): dados da estação requisitados diretamente da api\n",
    "        codigo_posto (str, optional): Código do posto para prints. Defaults to None.\n",
    "        retorna_msg_ok (bool, optional): Habilita maensagens de sucesso (além das de erro). Defaults to False.\n",
    "    \"\"\"\n",
    "    \n",
    "    relacao_colunas_para_ranges = {'TEMP_MAX':range_temperatura,\n",
    "                                   'UMID_MED':range_umidade,\n",
    "                                   'TEMP_MED':range_temperatura,\n",
    "                                   'CHUVA':range_chuva,\n",
    "                                   'TEMP_MIN':range_temperatura}\n",
    "\n",
    "    serie_json = json.loads(dados_estacao)\n",
    "    df = pd.DataFrame.from_dict(serie_json)\n",
    "    \n",
    "    for coluna in relacao_colunas_para_ranges:\n",
    "\n",
    "        valores = pd.to_numeric(df[coluna])\n",
    "        if (valores < relacao_colunas_para_ranges[coluna]['minimo_confiavel']).any() or (valores > relacao_colunas_para_ranges[coluna]['maximo_confiavel']).any():\n",
    "            print(\"Tem valor estranho aqui, Jovem ( '-')\")\n",
    "            print(f'>>>>>> codigo do posto: {codigo_posto}') if codigo_posto != None else 'faz nada :p'\n",
    "            print(f'>>>>>> Variável: {coluna}')\n",
    "        \n",
    "        else:\n",
    "            nome_para_posto = codigo_posto if codigo_posto != None else ''\n",
    "            print(f'Tudo certo com o posto {nome_para_posto} | {coluna}') if retorna_msg_ok else \"faz outro nada ('-' )\"\n"
   ]
  },
  {
   "cell_type": "code",
   "execution_count": 18,
   "id": "062937c6",
   "metadata": {},
   "outputs": [
    {
     "name": "stdout",
     "output_type": "stream",
     "text": [
      "Tudo certo com o posto 82989 | TEMP_MAX\n",
      "Tudo certo com o posto 82989 | UMID_MED\n",
      "Tudo certo com o posto 82989 | TEMP_MED\n",
      "Tem valor estranho aqui, Jovem ( '-')\n",
      ">>>>>> codigo do posto: 82989\n",
      ">>>>>> Variável: CHUVA\n",
      "Tudo certo com o posto 82989 | TEMP_MIN\n"
     ]
    }
   ],
   "source": [
    "# EXEMPLO\n",
    "checa_valores_espurios(saidas_requisicao['82989'], '82989', True)"
   ]
  },
  {
   "cell_type": "markdown",
   "id": "4fd2282d",
   "metadata": {},
   "source": [
    "# PLOT"
   ]
  },
  {
   "cell_type": "code",
   "execution_count": 19,
   "id": "810b45ad",
   "metadata": {},
   "outputs": [],
   "source": [
    "import matplotlib.pyplot as plt"
   ]
  },
  {
   "cell_type": "code",
   "execution_count": 21,
   "id": "0ad98b2d",
   "metadata": {},
   "outputs": [],
   "source": [
    "estacao1 = inmet.requisita_diario(data_inicial='2021-09-01', data_final='2021-09-15', cod_estacao='A301')\n",
    "estacao2 = inmet.requisita_diario(data_inicial='2021-09-01', data_final='2021-09-15', cod_estacao='82590')"
   ]
  },
  {
   "cell_type": "code",
   "execution_count": 22,
   "id": "fb1f9edf",
   "metadata": {},
   "outputs": [],
   "source": [
    "json1 = json.loads(estacao1)\n",
    "json2 = json.loads(estacao2)\n",
    "\n",
    "df1 = pd.DataFrame.from_dict(json1)\n",
    "df2 = pd.DataFrame.from_dict(json2)"
   ]
  },
  {
   "cell_type": "code",
   "execution_count": 23,
   "id": "fb2db49b",
   "metadata": {},
   "outputs": [],
   "source": [
    "# TRATAMENTO DE DADOS\n",
    "periodo = pd.date_range(start='2021-09-01',end='2021-09-15',freq='D')\n",
    "\n",
    "dados1 = pd.to_numeric(df1['UMID_MED'], downcast=\"float\")\n",
    "dados2 = pd.to_numeric(df2['UMID_MED'], downcast=\"float\")"
   ]
  },
  {
   "cell_type": "code",
   "execution_count": 24,
   "id": "bbc4a2df",
   "metadata": {},
   "outputs": [
    {
     "data": {
      "text/plain": [
       "<matplotlib.legend.Legend at 0x7fcf0ac45a60>"
      ]
     },
     "execution_count": 24,
     "metadata": {},
     "output_type": "execute_result"
    },
    {
     "data": {
      "image/png": "[encoded data removed]",
      "text/plain": [
       "<Figure size 1152x576 with 1 Axes>"
      ]
     },
     "metadata": {
      "needs_background": "light"
     },
     "output_type": "display_data"
    }
   ],
   "source": [
    "fig, ax = plt.subplots(figsize=(16,8))\n",
    "\n",
    "ax.plot(periodo, dados1, 'k', label='estação 1')\n",
    "ax.plot(periodo, dados2, 'b', label='estação 2')\n",
    "ax.set_ylabel('UMIDADE MÉDIA (%)', fontsize=14)\n",
    "ax.set_xlabel('DIA', fontsize=14)\n",
    "ax.set_title(f'Estação 1 e 2 - Umidade ao longo do tempo', fontsize=16, weight='bold')\n",
    "\n",
    "plt.legend()"
   ]
  }
 ],
 "metadata": {
  "interpreter": {
   "hash": "1437f8eadde3c0c848b285ddbb04ab5a7bff6e7a479529ebb32fc31fd41658a8"
  },
  "kernelspec": {
   "display_name": "Python 3 (ipykernel)",
   "language": "python",
   "name": "python3"
  },
  "language_info": {
   "codemirror_mode": {
    "name": "ipython",
    "version": 3
   },
   "file_extension": ".py",
   "mimetype": "text/x-python",
   "name": "python",
   "nbconvert_exporter": "python",
   "pygments_lexer": "ipython3",
   "version": "3.9.7"
  }
 },
 "nbformat": 4,
 "nbformat_minor": 5
}
